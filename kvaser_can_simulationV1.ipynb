{
 "cells": [
  {
   "cell_type": "code",
   "execution_count": 1,
   "metadata": {},
   "outputs": [],
   "source": [
    "import can\n",
    "\n",
    "channel_id = 0\n",
    "bitrate = 500000\n",
    "\n",
    "# 使用正确的参数调用Bus构造函数\n",
    "bus = can.Bus(channel=channel_id, bustype='kvaser', bitrate=bitrate)\n"
   ]
  },
  {
   "cell_type": "code",
   "execution_count": 2,
   "metadata": {},
   "outputs": [
    {
     "name": "stdout",
     "output_type": "stream",
     "text": [
      "接收到消息: Timestamp: 1711167796.463741    ID:      000    S Rx                DL:  8    66 ef 17 27 b5 ef 9d 93     Channel: 0\n"
     ]
    }
   ],
   "source": [
    "# 接收消息\n",
    "message = bus.recv(1) \n",
    "\n",
    "if message:\n",
    "    print(f\"接收到消息: {message}\")\n",
    "else:\n",
    "    print(\"等待消息超时。\")\n"
   ]
  },
  {
   "cell_type": "code",
   "execution_count": 89,
   "metadata": {},
   "outputs": [],
   "source": [
    "# 创建一个CAN消息\n",
    "msg = can.Message(arbitration_id=0x18FF7000, data=[0x1, 0x2, 0x3], is_extended_id=False)\n",
    "\n",
    "# 发送消息\n",
    "bus.send(msg)\n"
   ]
  },
  {
   "cell_type": "code",
   "execution_count": 104,
   "metadata": {},
   "outputs": [],
   "source": [
    "import can\n",
    "\n",
    "def create_can_message(arbitration_id, set_para_num, heart, para_value):\n",
    "    \"\"\"\n",
    "    CAN 2.0B, Extended Data Identifier\n",
    "    ID: 0x18FF7000\n",
    "    :param arbitration_id: 整数，消息的仲裁ID。\n",
    "\n",
    "    :param set_para_num: 整数，设置参数的编号，取值应为0-30。\n",
    "    :param heart: (bool): 如果为True，则心跳有效；否则无效。\n",
    "    :para para_value: 浮点数，取值应为0~9999.99, 单位mm\n",
    "    :return: `can.Message`对象。\n",
    "    \"\"\"\n",
    "    if not 0 <= set_para_num <= 30:\n",
    "        raise ValueError(\"set_para_num must be in range 0-30.\")\n",
    "    if not 0 <= para_value <= 9999.99:\n",
    "        raise ValueError(\"para_value must be in range 0 to 9999.99.\")\n",
    "    \n",
    "    set_para_num_byte = set_para_num.to_bytes(1, 'little')\n",
    "    para_value_int = int(para_value * 100)  \n",
    "\n",
    "    # 创建8字节的数据\n",
    "    data_bytes = bytearray(8)\n",
    "    data_bytes[0] = set_para_num_byte[0] & 0xFF  \n",
    "    \n",
    "    # 位操作\n",
    "    mask_to_clear = 0xFC\n",
    "    data_bytes[1] &= mask_to_clear\n",
    "    heartbeat_code = 0x01 if heart else 0x00  # 0x01 for True, 0x00 for False\n",
    "    data_bytes[1] = heartbeat_code & 0xFF\n",
    "    \n",
    "    data_bytes[3] = set_para_num_byte[0] & 0xFF  \n",
    "\n",
    "    # 取小端序\n",
    "    data_bytes[7] = (para_value_int & 0xFF)  # 取value的最低8位\n",
    "    data_bytes[6] = (para_value_int >> 8) & 0xFF  # 取value的次低8位\n",
    "    data_bytes[5] = (para_value_int >> 16) & 0xFF  # 取value的次高8位\n",
    "    data_bytes[4] = (para_value_int >> 24) & 0xFF  # 取value的最高8位\n",
    "    \n",
    "    # 构建消息\n",
    "    return can.Message(arbitration_id=arbitration_id, data=data_bytes, is_extended_id=True)\n",
    "\n",
    "\n",
    "message = create_can_message(0x18FF7000, 17, True, 1234.56)\n",
    "bus.send(message)"
   ]
  }
 ],
 "metadata": {
  "kernelspec": {
   "display_name": "individualPCenv",
   "language": "python",
   "name": "python3"
  },
  "language_info": {
   "codemirror_mode": {
    "name": "ipython",
    "version": 3
   },
   "file_extension": ".py",
   "mimetype": "text/x-python",
   "name": "python",
   "nbconvert_exporter": "python",
   "pygments_lexer": "ipython3",
   "version": "3.10.13"
  }
 },
 "nbformat": 4,
 "nbformat_minor": 2
}
